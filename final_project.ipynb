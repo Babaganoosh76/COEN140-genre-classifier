{
 "cells": [
  {
   "cell_type": "code",
   "execution_count": 12,
   "metadata": {},
   "outputs": [
    {
     "name": "stdout",
     "output_type": "stream",
     "text": [
      "      feature       chroma_cens     chroma_cens.1     chroma_cens.2  \\\n",
      "0  statistics          kurtosis          kurtosis          kurtosis   \n",
      "1      number                01                02                03   \n",
      "2    track_id               NaN               NaN               NaN   \n",
      "3           2  7.1806526184e+00  5.2303090096e+00  2.4932080507e-01   \n",
      "4           3  1.8889633417e+00  7.6053929329e-01  3.4529656172e-01   \n",
      "\n",
      "      chroma_cens.3     chroma_cens.4     chroma_cens.5     chroma_cens.6  \\\n",
      "0          kurtosis          kurtosis          kurtosis          kurtosis   \n",
      "1                04                05                06                07   \n",
      "2               NaN               NaN               NaN               NaN   \n",
      "3  1.3476201296e+00  1.4824777842e+00  5.3137123585e-01  1.4815930128e+00   \n",
      "4  2.2952005863e+00  1.6540306807e+00  6.7592434585e-02  1.3668476343e+00   \n",
      "\n",
      "      chroma_cens.7     chroma_cens.8  ...        tonnetz.39  \\\n",
      "0          kurtosis          kurtosis  ...               std   \n",
      "1                08                09  ...                04   \n",
      "2               NaN               NaN  ...               NaN   \n",
      "3  2.6914546490e+00  8.6686819792e-01  ...  5.4125156254e-02   \n",
      "4  1.0540937185e+00  1.0810308903e-01  ...  6.3831120729e-02   \n",
      "\n",
      "         tonnetz.40        tonnetz.41               zcr             zcr.1  \\\n",
      "0               std               std          kurtosis               max   \n",
      "1                05                06                01                01   \n",
      "2               NaN               NaN               NaN               NaN   \n",
      "3  1.2225749902e-02  1.2110591866e-02  5.7588901520e+00  4.5947265625e-01   \n",
      "4  1.4211839065e-02  1.7740072682e-02  2.8246941566e+00  4.6630859375e-01   \n",
      "\n",
      "              zcr.2             zcr.3             zcr.4             zcr.5  \\\n",
      "0              mean            median               min              skew   \n",
      "1                01                01                01                01   \n",
      "2               NaN               NaN               NaN               NaN   \n",
      "3  8.5629448295e-02  7.1289062500e-02  0.0000000000e+00  2.0898721218e+00   \n",
      "4  8.4578499198e-02  6.3964843750e-02  0.0000000000e+00  1.7167237997e+00   \n",
      "\n",
      "              zcr.6  \n",
      "0               std  \n",
      "1                01  \n",
      "2               NaN  \n",
      "3  6.1448108405e-02  \n",
      "4  6.9330163300e-02  \n",
      "\n",
      "[5 rows x 519 columns]\n"
     ]
    }
   ],
   "source": [
    "import numpy as np\n",
    "import pandas as pd\n",
    "\n",
    "def fetch_data(x=0):\n",
    "    gen = pd.read_csv('fma_metadata/genres.csv')\n",
    "    fet = pd.read_csv('fma_metadata/features.csv', dtype=object, nrows=5)\n",
    "    return fet.iloc[:x] if x else fet\n",
    "\n",
    "def get_song_features(fn):\n",
    "    pass\n",
    "\n",
    "def main():\n",
    "    data = fetch_data()\n",
    "    print(data)\n",
    "    \n",
    "    \n",
    "main()"
   ]
  },
  {
   "cell_type": "code",
   "execution_count": null,
   "metadata": {},
   "outputs": [],
   "source": []
  }
 ],
 "metadata": {
  "kernelspec": {
   "display_name": "Python 3",
   "language": "python",
   "name": "python3"
  },
  "language_info": {
   "codemirror_mode": {
    "name": "ipython",
    "version": 3
   },
   "file_extension": ".py",
   "mimetype": "text/x-python",
   "name": "python",
   "nbconvert_exporter": "python",
   "pygments_lexer": "ipython3",
   "version": "3.7.7"
  }
 },
 "nbformat": 4,
 "nbformat_minor": 4
}
