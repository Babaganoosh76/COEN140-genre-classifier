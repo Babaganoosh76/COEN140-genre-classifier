{
 "cells": [
  {
   "cell_type": "markdown",
   "metadata": {},
   "source": [
    "# Lab 7: Logistic Regression\n",
    "In this lab, I will implement a basic logarithmic regression function. I will report the training and testing error values below."
   ]
  },
  {
   "cell_type": "code",
   "execution_count": 1,
   "metadata": {},
   "outputs": [],
   "source": [
    "import numpy as np\n",
    "\n",
    "ALPHA = np.power(10.0, -5)\n",
    "\n",
    "def read_data(filename):\n",
    "    f = open(filename, 'r')\n",
    "    data = [l.replace('\\n','').split(',') for l in f if not l.isspace()]\n",
    "    return data\n",
    "\n",
    "def normalize(arr):\n",
    "    mean = np.mean(arr, axis=0)\n",
    "    std = np.std(arr, axis=0)\n",
    "    return np.array([(x - m)/s for x,m,s in zip(arr.T,mean,std)]).T\n",
    "\n",
    "def accuracy(act, pred):\n",
    "    assert len(pred) == len(act)\n",
    "    correct = 0\n",
    "    for p,a in zip(pred, act):\n",
    "        if (p >= 0.5) == a:\n",
    "            correct = correct + 1\n",
    "    return 1-(correct/len(act))\n",
    "\n",
    "def sigmoid(x):\n",
    "    return 1/(1+np.exp(-x))\n",
    "\n",
    "def solve_w(w, X, y):\n",
    "    p1 = sigmoid(X.dot(w))\n",
    "    p2 = (X.T).dot(y-p1)\n",
    "#     print(X.shape, w.shape, p1.shape, p2.shape)\n",
    "    return w + (ALPHA*p2)\n",
    "\n",
    "def optimize_w(w_init, X, y, tol=0.00001):\n",
    "    mv = 1\n",
    "    w = w_init\n",
    "    while mv > tol:\n",
    "        prev_w = w\n",
    "        w = solve_w(w, X, y)\n",
    "        mv = np.linalg.norm(w - prev_w)\n",
    "    return w"
   ]
  },
  {
   "cell_type": "markdown",
   "metadata": {},
   "source": [
    "## Problem 1: Logistic regression"
   ]
  },
  {
   "cell_type": "code",
   "execution_count": 2,
   "metadata": {},
   "outputs": [],
   "source": [
    "def problem1(train, test):\n",
    "    \n",
    "    # format training data\n",
    "    X_train, y_train = np.split(train, [-1], 1)\n",
    "    y_train = np.reshape(y_train, -1)\n",
    "    \n",
    "    # normalize features\n",
    "    X_train = normalize(X_train)\n",
    "    X_train = np.hstack((X_train, [[1]]*len(X_train)))\n",
    "    \n",
    "    # perform gradient descent\n",
    "    w_temp = np.random.normal(size=len(X_train[0]))\n",
    "    w = optimize_w(w_temp, X_train, y_train, tol=np.power(10.0, -5))\n",
    "    \n",
    "    # format testing data\n",
    "    X_test, y_test = np.split(test, [-1], 1)\n",
    "    y_test = np.reshape(y_test, -1)\n",
    "    X_test = normalize(X_test)\n",
    "    X_test = np.hstack((X_test, [[1]]*len(X_test)))\n",
    "    \n",
    "    # prediction\n",
    "    pred_train = (X_train).dot(w)\n",
    "    pred_test = (X_test).dot(w)\n",
    "    \n",
    "    # evaluate prediction\n",
    "    err = (accuracy(y_train, pred_train), accuracy(y_test, pred_test))\n",
    "    print('>====== Problem 1 ======<')\n",
    "    print('Training error: {0:.2f}%\\nTesting error: {1:.2f}%\\n'.format(err[0]*100,err[1]*100))\n",
    "    return pred_test"
   ]
  },
  {
   "cell_type": "code",
   "execution_count": 3,
   "metadata": {},
   "outputs": [
    {
     "ename": "FileNotFoundError",
     "evalue": "[Errno 2] No such file or directory: 'spambase/spam-train'",
     "output_type": "error",
     "traceback": [
      "\u001b[0;31m---------------------------------------------------------------------------\u001b[0m",
      "\u001b[0;31mFileNotFoundError\u001b[0m                         Traceback (most recent call last)",
      "\u001b[0;32m<ipython-input-3-9b92eacf2924>\u001b[0m in \u001b[0;36m<module>\u001b[0;34m\u001b[0m\n\u001b[1;32m     11\u001b[0m     \u001b[0mpred\u001b[0m \u001b[0;34m=\u001b[0m \u001b[0mproblem1\u001b[0m\u001b[0;34m(\u001b[0m\u001b[0mtrain\u001b[0m\u001b[0;34m,\u001b[0m \u001b[0mtest\u001b[0m\u001b[0;34m)\u001b[0m\u001b[0;34m\u001b[0m\u001b[0;34m\u001b[0m\u001b[0m\n\u001b[1;32m     12\u001b[0m \u001b[0;34m\u001b[0m\u001b[0m\n\u001b[0;32m---> 13\u001b[0;31m \u001b[0mmain\u001b[0m\u001b[0;34m(\u001b[0m\u001b[0;34m)\u001b[0m\u001b[0;34m\u001b[0m\u001b[0;34m\u001b[0m\u001b[0m\n\u001b[0m",
      "\u001b[0;32m<ipython-input-3-9b92eacf2924>\u001b[0m in \u001b[0;36mmain\u001b[0;34m()\u001b[0m\n\u001b[1;32m      1\u001b[0m \u001b[0;32mdef\u001b[0m \u001b[0mmain\u001b[0m\u001b[0;34m(\u001b[0m\u001b[0;34m)\u001b[0m\u001b[0;34m:\u001b[0m\u001b[0;34m\u001b[0m\u001b[0;34m\u001b[0m\u001b[0m\n\u001b[1;32m      2\u001b[0m     \u001b[0;31m# import training data\u001b[0m\u001b[0;34m\u001b[0m\u001b[0;34m\u001b[0m\u001b[0;34m\u001b[0m\u001b[0m\n\u001b[0;32m----> 3\u001b[0;31m     \u001b[0mraw_data\u001b[0m \u001b[0;34m=\u001b[0m \u001b[0mread_data\u001b[0m\u001b[0;34m(\u001b[0m\u001b[0;34m'spambase/spam-train'\u001b[0m\u001b[0;34m)\u001b[0m\u001b[0;34m\u001b[0m\u001b[0;34m\u001b[0m\u001b[0m\n\u001b[0m\u001b[1;32m      4\u001b[0m     \u001b[0mtrain\u001b[0m \u001b[0;34m=\u001b[0m \u001b[0mnp\u001b[0m\u001b[0;34m.\u001b[0m\u001b[0marray\u001b[0m\u001b[0;34m(\u001b[0m\u001b[0mraw_data\u001b[0m\u001b[0;34m)\u001b[0m\u001b[0;34m.\u001b[0m\u001b[0mastype\u001b[0m\u001b[0;34m(\u001b[0m\u001b[0;34m'float'\u001b[0m\u001b[0;34m)\u001b[0m\u001b[0;34m\u001b[0m\u001b[0;34m\u001b[0m\u001b[0m\n\u001b[1;32m      5\u001b[0m \u001b[0;34m\u001b[0m\u001b[0m\n",
      "\u001b[0;32m<ipython-input-1-62a7e5334f9e>\u001b[0m in \u001b[0;36mread_data\u001b[0;34m(filename)\u001b[0m\n\u001b[1;32m      4\u001b[0m \u001b[0;34m\u001b[0m\u001b[0m\n\u001b[1;32m      5\u001b[0m \u001b[0;32mdef\u001b[0m \u001b[0mread_data\u001b[0m\u001b[0;34m(\u001b[0m\u001b[0mfilename\u001b[0m\u001b[0;34m)\u001b[0m\u001b[0;34m:\u001b[0m\u001b[0;34m\u001b[0m\u001b[0;34m\u001b[0m\u001b[0m\n\u001b[0;32m----> 6\u001b[0;31m     \u001b[0mf\u001b[0m \u001b[0;34m=\u001b[0m \u001b[0mopen\u001b[0m\u001b[0;34m(\u001b[0m\u001b[0mfilename\u001b[0m\u001b[0;34m,\u001b[0m \u001b[0;34m'r'\u001b[0m\u001b[0;34m)\u001b[0m\u001b[0;34m\u001b[0m\u001b[0;34m\u001b[0m\u001b[0m\n\u001b[0m\u001b[1;32m      7\u001b[0m     \u001b[0mdata\u001b[0m \u001b[0;34m=\u001b[0m \u001b[0;34m[\u001b[0m\u001b[0ml\u001b[0m\u001b[0;34m.\u001b[0m\u001b[0mreplace\u001b[0m\u001b[0;34m(\u001b[0m\u001b[0;34m'\\n'\u001b[0m\u001b[0;34m,\u001b[0m\u001b[0;34m''\u001b[0m\u001b[0;34m)\u001b[0m\u001b[0;34m.\u001b[0m\u001b[0msplit\u001b[0m\u001b[0;34m(\u001b[0m\u001b[0;34m','\u001b[0m\u001b[0;34m)\u001b[0m \u001b[0;32mfor\u001b[0m \u001b[0ml\u001b[0m \u001b[0;32min\u001b[0m \u001b[0mf\u001b[0m \u001b[0;32mif\u001b[0m \u001b[0;32mnot\u001b[0m \u001b[0ml\u001b[0m\u001b[0;34m.\u001b[0m\u001b[0misspace\u001b[0m\u001b[0;34m(\u001b[0m\u001b[0;34m)\u001b[0m\u001b[0;34m]\u001b[0m\u001b[0;34m\u001b[0m\u001b[0;34m\u001b[0m\u001b[0m\n\u001b[1;32m      8\u001b[0m     \u001b[0;32mreturn\u001b[0m \u001b[0mdata\u001b[0m\u001b[0;34m\u001b[0m\u001b[0;34m\u001b[0m\u001b[0m\n",
      "\u001b[0;31mFileNotFoundError\u001b[0m: [Errno 2] No such file or directory: 'spambase/spam-train'"
     ]
    }
   ],
   "source": [
    "def main():\n",
    "    # import training data\n",
    "    raw_data = read_data('spambase/spam-train')\n",
    "    train = np.array(raw_data).astype('float')\n",
    "    \n",
    "    # import testing data\n",
    "    raw_data = read_data('spambase/spam-test')\n",
    "    test = np.array(raw_data).astype('float')\n",
    "    \n",
    "    # run predictions\n",
    "    pred = problem1(train, test)\n",
    "    \n",
    "main()"
   ]
  },
  {
   "cell_type": "code",
   "execution_count": null,
   "metadata": {},
   "outputs": [],
   "source": []
  }
 ],
 "metadata": {
  "kernelspec": {
   "display_name": "Python 3",
   "language": "python",
   "name": "python3"
  },
  "language_info": {
   "codemirror_mode": {
    "name": "ipython",
    "version": 3
   },
   "file_extension": ".py",
   "mimetype": "text/x-python",
   "name": "python",
   "nbconvert_exporter": "python",
   "pygments_lexer": "ipython3",
   "version": "3.7.7"
  }
 },
 "nbformat": 4,
 "nbformat_minor": 4
}
